{
 "cells": [
  {
   "cell_type": "code",
   "execution_count": 1,
   "id": "e4b85002-04bb-4f2b-aa4f-0383111941bf",
   "metadata": {},
   "outputs": [],
   "source": [
    "import pandas as pd\n",
    "import numpy as np"
   ]
  },
  {
   "cell_type": "code",
   "execution_count": 2,
   "id": "32c0ca9a-f737-48ca-bd03-4631ea8fe373",
   "metadata": {},
   "outputs": [],
   "source": [
    "# Load the Iris dataset\n",
    "data = pd.read_csv(r\"C:\\Users\\lenovo\\Downloads\\iris.csv\")"
   ]
  },
  {
   "cell_type": "code",
   "execution_count": 3,
   "id": "2a35b654-0230-4c5b-8ac2-13cf350af8cd",
   "metadata": {},
   "outputs": [],
   "source": [
    "# Select numeric columns for computing the covariance matrix\n",
    "# Assuming the columns are the standard Iris dataset features: 'sepal_length', 'sepal_width', 'petal_length', 'petal_width'\n",
    "features = data[['sepal_length', 'sepal_width', 'petal_length', 'petal_width']]"
   ]
  },
  {
   "cell_type": "code",
   "execution_count": 9,
   "id": "153b1fbc-1869-4708-9717-e5974a1eb5c4",
   "metadata": {},
   "outputs": [
    {
     "name": "stdout",
     "output_type": "stream",
     "text": [
      "Covariance Matrix:\n",
      " [[ 0.68569351 -0.03926846  1.27368233  0.5169038 ]\n",
      " [-0.03926846  0.18800403 -0.32171275 -0.11798121]\n",
      " [ 1.27368233 -0.32171275  3.11317942  1.29638747]\n",
      " [ 0.5169038  -0.11798121  1.29638747  0.58241432]]\n"
     ]
    }
   ],
   "source": [
    "# Step 1: Compute the covariance matrix\n",
    "cov_matrix = np.cov(features.T)\n",
    "print(\"Covariance Matrix:\\n\", cov_matrix)\n"
   ]
  },
  {
   "cell_type": "code",
   "execution_count": 10,
   "id": "7bfe0e07-51e7-43fb-a15c-e9d320cabd43",
   "metadata": {},
   "outputs": [
    {
     "name": "stdout",
     "output_type": "stream",
     "text": [
      "\n",
      "Eigenvalues:\n",
      " [4.22484077 0.24224357 0.07852391 0.02368303]\n",
      "\n",
      "Eigenvectors:\n",
      " [[ 0.36158968 -0.65653988 -0.58099728  0.31725455]\n",
      " [-0.08226889 -0.72971237  0.59641809 -0.32409435]\n",
      " [ 0.85657211  0.1757674   0.07252408 -0.47971899]\n",
      " [ 0.35884393  0.07470647  0.54906091  0.75112056]]\n"
     ]
    }
   ],
   "source": [
    "# Step 2: Perform eigen decomposition to obtain eigenvalues and eigenvectors\n",
    "eigenvalues, eigenvectors = np.linalg.eig(cov_matrix)\n",
    "print(\"\\nEigenvalues:\\n\", eigenvalues)\n",
    "print(\"\\nEigenvectors:\\n\", eigenvectors)"
   ]
  },
  {
   "cell_type": "code",
   "execution_count": 11,
   "id": "2a6f437c-9782-4bfa-bf62-b1eac01bac29",
   "metadata": {},
   "outputs": [
    {
     "name": "stdout",
     "output_type": "stream",
     "text": [
      "\n",
      "Diagonal Matrix D:\n",
      " [[4.22484077 0.         0.         0.        ]\n",
      " [0.         0.24224357 0.         0.        ]\n",
      " [0.         0.         0.07852391 0.        ]\n",
      " [0.         0.         0.         0.02368303]]\n"
     ]
    }
   ],
   "source": [
    "# Step 3: Form the diagonal matrix D using the eigenvalues\n",
    "D = np.diag(eigenvalues)\n",
    "print(\"\\nDiagonal Matrix D:\\n\", D)"
   ]
  },
  {
   "cell_type": "code",
   "execution_count": 12,
   "id": "91f590fd-f555-4d16-a9bf-4846a2155900",
   "metadata": {},
   "outputs": [
    {
     "name": "stdout",
     "output_type": "stream",
     "text": [
      "\n",
      "Inverse of D:\n",
      " [[ 0.23669531  0.          0.          0.        ]\n",
      " [ 0.          4.12807652  0.          0.        ]\n",
      " [ 0.          0.         12.73497492  0.        ]\n",
      " [ 0.          0.          0.         42.22433199]]\n"
     ]
    }
   ],
   "source": [
    "# Step 4: Calculate the inverse of D (only if it is invertible)\n",
    "D_inv = np.linalg.inv(D) if np.all(eigenvalues) else None  # Check for zero eigenvalues\n",
    "print(\"\\nInverse of D:\\n\", D_inv if D_inv is not None else \"D is not invertible (contains zero eigenvalues)\")"
   ]
  }
 ],
 "metadata": {
  "kernelspec": {
   "display_name": "Python 3 (ipykernel)",
   "language": "python",
   "name": "python3"
  },
  "language_info": {
   "codemirror_mode": {
    "name": "ipython",
    "version": 3
   },
   "file_extension": ".py",
   "mimetype": "text/x-python",
   "name": "python",
   "nbconvert_exporter": "python",
   "pygments_lexer": "ipython3",
   "version": "3.11.7"
  }
 },
 "nbformat": 4,
 "nbformat_minor": 5
}
